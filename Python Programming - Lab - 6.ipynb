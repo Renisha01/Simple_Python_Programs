{
 "cells": [
  {
   "cell_type": "markdown",
   "metadata": {},
   "source": [
    "<a href='https://www.darshan.ac.in/'> <img src='https://www.darshan.ac.in/Content/media/DU_Logo.svg' width=\"250\" height=\"300\"/></a>\n",
    "<pre>\n",
    "<center><b><h1>Python Programming - 2101CS405</b></center>\n",
    "<center><b><h1>Lab - 6</b></center>    \n",
    "<pre>"
   ]
  },
  {
   "cell_type": "markdown",
   "metadata": {},
   "source": [
    "# Tuples, dictionary, set"
   ]
  },
  {
   "cell_type": "markdown",
   "metadata": {},
   "source": [
    "# A"
   ]
  },
  {
   "cell_type": "markdown",
   "metadata": {},
   "source": [
    "### 01) WAP to sort python dictionary by key or value."
   ]
  },
  {
   "cell_type": "code",
   "execution_count": null,
   "metadata": {},
   "outputs": [],
   "source": [
    "dic={\"name\":\"Renii\",\"age\":\"20\",\"roll_no\":\"655\",\"darshan\":\"university\"}\n",
    "sort_by_key=sorted(dic.items(),key=lambda x:x[0])\n",
    "sort_by_value=sorted(dic.items(),key=lambda x:x[1])\n",
    "print(sort_by_value)\n",
    "print(sort_by_key)\n",
    "# l=list(dic.keys())\n",
    "# for i in l:\n",
    "# print(dic[i])"
   ]
  },
  {
   "cell_type": "markdown",
   "metadata": {},
   "source": [
    "### 02) WAP to merge two dictionaries given by user."
   ]
  },
  {
   "cell_type": "code",
   "execution_count": 2,
   "metadata": {},
   "outputs": [
    {
     "name": "stdout",
     "output_type": "stream",
     "text": [
      "{'3': '5', '6': '5', '4': '2'}\n"
     ]
    }
   ],
   "source": [
    "dic1={}\n",
    "dic2={}\n",
    "for i in range(int(input(\"ENter length of dictionary 1 : \"))):\n",
    "    key=input(\"Enter a key: \")\n",
    "    dic1[key]=input(\"ENter a value : \")\n",
    "for i in range(int(input(\"ENter length of dictionary : \"))):\n",
    "    key=input(\"Enter a key: \")\n",
    "dic2[key]=input(\"ENter a value : \")\n",
    "dic1.update(dic2)\n",
    "print(dic1)\n"
   ]
  },
  {
   "cell_type": "markdown",
   "metadata": {},
   "source": [
    "### 03) WAP to find tuples that have all elements divisible by K from a list of tuples."
   ]
  },
  {
   "cell_type": "code",
   "execution_count": null,
   "metadata": {},
   "outputs": [],
   "source": [
    "k=int(input(\"Enter a number : \"))\n",
    "list_of_tupple=[(12,12,11),(10,20,25,55,110),(11,112,111,23)]\n",
    "def check(list_of_tupple):\n",
    "    for i in list_of_tupple:\n",
    "        if i%k!=0:\n",
    "            return False\n",
    "            return True\n",
    "print(list(filter(check,list_of_tupple))[0])"
   ]
  },
  {
   "cell_type": "markdown",
   "metadata": {},
   "source": [
    "### 04) WAP to find Tuples with positive elements in List of tuples."
   ]
  },
  {
   "cell_type": "code",
   "execution_count": null,
   "metadata": {},
   "outputs": [],
   "source": [
    "l1=[(12,12,-11),(10,20,25),(11,112,111)]\n",
    "for a,b,c in l1:\n",
    "    if a>0 and b>0 and c>0:\n",
    "        print(a,b,c)\n"
   ]
  },
  {
   "cell_type": "markdown",
   "metadata": {},
   "source": [
    "### 05) WAP which perform union of two sets."
   ]
  },
  {
   "cell_type": "code",
   "execution_count": null,
   "metadata": {},
   "outputs": [],
   "source": [
    "set1={1,2,3,4,5}\n",
    "set2={6,7,8,9,10}\n",
    "print(set1.union(set2))"
   ]
  },
  {
   "cell_type": "markdown",
   "metadata": {},
   "source": [
    "# B"
   ]
  },
  {
   "cell_type": "markdown",
   "metadata": {},
   "source": [
    "### 01) WAP to convert binary tuple into integer."
   ]
  },
  {
   "cell_type": "code",
   "execution_count": null,
   "metadata": {},
   "outputs": [],
   "source": [
    "tupple=(\"1\",\"1\",\"1\",\"1\")\n",
    "str=\"\".join(tupple)\n",
    "print(int(str))\n"
   ]
  },
  {
   "cell_type": "markdown",
   "metadata": {},
   "source": [
    "### 02) WAP to count frequency in list by dictionary."
   ]
  },
  {
   "cell_type": "code",
   "execution_count": null,
   "metadata": {},
   "outputs": [],
   "source": [
    "d1={}\n",
    "l1=[\"a\",\"b\",\"c\",\"b\",\"a\",\"a\"]\n",
    "for i in l1:\n",
    "    if i in d1:\n",
    "        d1[i]+=1\n",
    "else:\n",
    "    d1[i]=1\n",
    "print(d1)\n"
   ]
  },
  {
   "cell_type": "markdown",
   "metadata": {},
   "source": [
    "### 03) WAP to remove all the duplicate words from the list using dictionary."
   ]
  },
  {
   "cell_type": "code",
   "execution_count": null,
   "metadata": {},
   "outputs": [],
   "source": [
    "l1=[\"a\",\"b\",\"c\",\"b\",\"a\",\"a\",\"b\"]\n",
    "dic1=list(dict.fromkeys(l1))\n",
    "print(dic1)\n"
   ]
  }
 ],
 "metadata": {
  "kernelspec": {
   "display_name": "Python 3 (ipykernel)",
   "language": "python",
   "name": "python3"
  },
  "language_info": {
   "codemirror_mode": {
    "name": "ipython",
    "version": 3
   },
   "file_extension": ".py",
   "mimetype": "text/x-python",
   "name": "python",
   "nbconvert_exporter": "python",
   "pygments_lexer": "ipython3",
   "version": "3.12.1"
  }
 },
 "nbformat": 4,
 "nbformat_minor": 4
}
