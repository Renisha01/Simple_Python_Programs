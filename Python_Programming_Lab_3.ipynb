{
  "cells": [
    {
      "cell_type": "markdown",
      "metadata": {
        "id": "RaIoAHqqqJRg"
      },
      "source": [
        "\n",
        "<a href='https://www.darshan.ac.in/'> <img src='https://www.darshan.ac.in/Content/media/DU_Logo.svg' width=\"250\" height=\"300\"/></a>\n",
        "<pre>\n",
        "<center><b><h1>Python Programming - 2101CS405</b></center>\n",
        "<center><b><h1>Lab - 3</b></center>    \n",
        "<pre>"
      ]
    },
    {
      "cell_type": "markdown",
      "metadata": {
        "id": "f15fbDXxqJRz"
      },
      "source": [
        "# for and while loop"
      ]
    },
    {
      "cell_type": "markdown",
      "metadata": {
        "id": "6v_l_8YUqJR2"
      },
      "source": [
        "### 01) WAP to print 1 to 10"
      ]
    },
    {
      "cell_type": "code",
      "execution_count": null,
      "metadata": {
        "colab": {
          "base_uri": "https://localhost:8080/"
        },
        "id": "Av221ViLqJR4",
        "outputId": "1c6555ee-64d9-4b04-939f-679f41799e80"
      },
      "outputs": [
        {
          "name": "stdout",
          "output_type": "stream",
          "text": [
            "1,2,3,4,5,6,7,8,9,10,"
          ]
        }
      ],
      "source": [
        "i=1\n",
        "while i<=10:\n",
        "  print(i,end=',')\n",
        "  i+=1"
      ]
    },
    {
      "cell_type": "markdown",
      "metadata": {
        "id": "8z2IkN4MqJR7"
      },
      "source": [
        "### 02) WAP to print 1 to n"
      ]
    },
    {
      "cell_type": "code",
      "execution_count": null,
      "metadata": {
        "colab": {
          "base_uri": "https://localhost:8080/"
        },
        "id": "fjGZ4o0XqJR9",
        "outputId": "3b4fcc4d-2f28-44fc-9de4-319530cef10d"
      },
      "outputs": [
        {
          "name": "stdout",
          "output_type": "stream",
          "text": [
            "Enter a number:10\n",
            "1,2,3,4,5,6,7,8,9,10,"
          ]
        }
      ],
      "source": [
        "n=int(input(\"Enter a number:\"))\n",
        "i=1\n",
        "while i<=n:\n",
        "  print(i,end=',')\n",
        "  i+=1"
      ]
    },
    {
      "cell_type": "markdown",
      "metadata": {
        "id": "cu8TTJmzqJR-"
      },
      "source": [
        "### 03) WAP to print odd numbers between 1 to n"
      ]
    },
    {
      "cell_type": "code",
      "execution_count": null,
      "metadata": {
        "colab": {
          "base_uri": "https://localhost:8080/"
        },
        "id": "tfQHLJcRqJSA",
        "outputId": "3533f86d-86e6-46a7-cf8d-74f8c69a09bf"
      },
      "outputs": [
        {
          "name": "stdout",
          "output_type": "stream",
          "text": [
            "Enter number:10\n",
            "1,3,5,7,9,"
          ]
        }
      ],
      "source": [
        "n=int(input(\"Enter number:\"))\n",
        "i=1\n",
        "while i<=n:\n",
        "  if(i%2!=0):\n",
        "    print(i,end=',')\n",
        "  i+=1  "
      ]
    },
    {
      "cell_type": "markdown",
      "metadata": {
        "id": "Nya1HLoXqJSC"
      },
      "source": [
        "### 04) WAP to print numbers between two given numbers which is divisible by 2 but not divisible by 3"
      ]
    },
    {
      "cell_type": "code",
      "execution_count": null,
      "metadata": {
        "colab": {
          "base_uri": "https://localhost:8080/"
        },
        "id": "t7UwZBIuqJSE",
        "outputId": "a432c5d7-db95-4a08-e4ec-9aa68913083c"
      },
      "outputs": [
        {
          "name": "stdout",
          "output_type": "stream",
          "text": [
            "Enter a initial number,n1:1\n",
            "Enter a terminate number,n2:15\n",
            "2,4,8,10,14,"
          ]
        }
      ],
      "source": [
        "n1=int(input(\"Enter a initial number,n1:\"))\n",
        "n2=int(input(\"Enter a terminate number,n2:\"))\n",
        "i=n1\n",
        "while i<n2:\n",
        "  if(i%2==0 and i%3!=0):\n",
        "    print(i,end=',')\n",
        "  i+=1    "
      ]
    },
    {
      "cell_type": "markdown",
      "metadata": {
        "id": "fFVIWkeTqJSF"
      },
      "source": [
        "### 05) WAP to print sum of 1 to n numbers"
      ]
    },
    {
      "cell_type": "code",
      "execution_count": null,
      "metadata": {
        "colab": {
          "base_uri": "https://localhost:8080/"
        },
        "id": "toTPHWwXqJSH",
        "outputId": "33326a06-a619-4ded-f026-1d9203e44a2d"
      },
      "outputs": [
        {
          "name": "stdout",
          "output_type": "stream",
          "text": [
            "Enter a nth number: 5\n",
            "sum of 1 to 5 number: 15\n"
          ]
        }
      ],
      "source": [
        "n=int(input(\"Enter a nth number: \"))\n",
        "i=1\n",
        "sum=0\n",
        "while i<=n:\n",
        "  sum=sum+i\n",
        "  i+=1\n",
        "print(f'sum of 1 to {n} number:',sum)"
      ]
    },
    {
      "cell_type": "markdown",
      "metadata": {
        "id": "3vkXjfFLqJSJ"
      },
      "source": [
        "### 06) WAP to print sum of series 1 + 4 + 9 + 16 + 25 + 36 + ...n"
      ]
    },
    {
      "cell_type": "code",
      "execution_count": 4,
      "metadata": {
        "colab": {
          "base_uri": "https://localhost:8080/"
        },
        "id": "gebFcaTCqJSM",
        "outputId": "a1d1aa11-ad44-429b-a1ff-0229650f7546"
      },
      "outputs": [
        {
          "name": "stdout",
          "output_type": "stream",
          "text": [
            "Square series 1 to Nth =  1 + 4 + 9 + 16 + 25 + \n",
            "sum of series:  55\n"
          ]
        }
      ],
      "source": [
        "n=int(input(\"Enter a nth number:\"))\n",
        "i=1\n",
        "sum=0\n",
        "print(\"Square series 1 to Nth = \",end=' ')\n",
        "while i<=n:\n",
        "  print(pow(i,2),end=' + ')\n",
        "  sum=sum+pow(i,2)\n",
        "  i+=1\n",
        "print(\"\\nsum of series: \",sum)  "
      ]
    },
    {
      "cell_type": "markdown",
      "metadata": {
        "id": "DDfkDdfNqJSN"
      },
      "source": [
        "### 07) WAP to print sum of series 1 – 2 + 3 – 4 + 5 – 6 + 7 ... n"
      ]
    },
    {
      "cell_type": "code",
      "execution_count": null,
      "metadata": {
        "colab": {
          "base_uri": "https://localhost:8080/"
        },
        "id": "5EZ18Ic7qJSP",
        "outputId": "45c619b2-0bd1-460c-a307-fa835f1ba82b"
      },
      "outputs": [
        {
          "name": "stdout",
          "output_type": "stream",
          "text": [
            "Enter a nth number: 5\n",
            "Sum of the given series:  3\n"
          ]
        }
      ],
      "source": [
        "n=int(input(\"Enter a nth number: \"))\n",
        "sum=0\n",
        "i=1\n",
        "while i<=n:\n",
        "  if(i%2==0):\n",
        "    sum=sum-i\n",
        "  elif(i%2!=0):\n",
        "    sum=sum+i\n",
        "  i+=1\n",
        "print(\"Sum of the given series: \",sum)"
      ]
    },
    {
      "cell_type": "markdown",
      "metadata": {
        "id": "GYL6cPmPqJSQ"
      },
      "source": [
        "### 08) WAP to print multiplication table of given number."
      ]
    },
    {
      "cell_type": "code",
      "execution_count": null,
      "metadata": {
        "colab": {
          "base_uri": "https://localhost:8080/"
        },
        "id": "hTYdPcZSqJSR",
        "outputId": "e92f1bb4-5d3d-4711-ab00-7643466ea4fb"
      },
      "outputs": [
        {
          "name": "stdout",
          "output_type": "stream",
          "text": [
            "Enter nth number for multiplication table: 5\n",
            "5 x 1 = 5\n",
            "5 x 2 = 10\n",
            "5 x 3 = 15\n",
            "5 x 4 = 20\n",
            "5 x 5 = 25\n",
            "5 x 6 = 30\n",
            "5 x 7 = 35\n",
            "5 x 8 = 40\n",
            "5 x 9 = 45\n",
            "5 x 10 = 50\n"
          ]
        }
      ],
      "source": [
        "n=int(input(\"Enter nth number for multiplication table: \"))\n",
        "i=1\n",
        "while i<=10:\n",
        "  \n",
        "  print(n,'x',i ,'=',n*i )\n",
        "  i+=1\n",
        " "
      ]
    },
    {
      "cell_type": "markdown",
      "metadata": {
        "id": "ccIwYfLpqJSS"
      },
      "source": [
        "### 09) WAP to find factorial of the given number"
      ]
    },
    {
      "cell_type": "code",
      "execution_count": null,
      "metadata": {
        "colab": {
          "base_uri": "https://localhost:8080/"
        },
        "id": "qhLrSgtAqJST",
        "outputId": "4cc3c444-4f11-495a-f15d-2bbe44ca1e4a"
      },
      "outputs": [
        {
          "name": "stdout",
          "output_type": "stream",
          "text": [
            "Enter a number: 5\n",
            "Factorial of number :  120\n"
          ]
        }
      ],
      "source": [
        "n=int(input(\"Enter a number: \"))\n",
        "i=n\n",
        "fact=1\n",
        "while i>=1:\n",
        "  fact=fact*i\n",
        "  i-=1\n",
        "print('Factorial of number : ',fact) "
      ]
    },
    {
      "cell_type": "markdown",
      "metadata": {
        "id": "v9wOu_0qqJSU"
      },
      "source": [
        "### 10) WAP to find factors of the given number"
      ]
    },
    {
      "cell_type": "code",
      "execution_count": null,
      "metadata": {
        "colab": {
          "base_uri": "https://localhost:8080/"
        },
        "id": "UdK_4AtnqJSV",
        "outputId": "be67a1f4-16fe-4c72-89f6-61fa839fef26"
      },
      "outputs": [
        {
          "name": "stdout",
          "output_type": "stream",
          "text": [
            "Enter a number : 20\n",
            "Factors of 20 = 1,2,4,5,10,20,"
          ]
        }
      ],
      "source": [
        "n=int(input(\"Enter a number : \"))\n",
        "i=1\n",
        "count=1\n",
        "print(f\"Factors of {n} =\",end=' ')\n",
        "while i<=n:\n",
        "  if(n%i==0):\n",
        "      print(i,end=',')\n",
        "  i+=1"
      ]
    },
    {
      "cell_type": "markdown",
      "metadata": {
        "id": "2g_8eYIOqJSW"
      },
      "source": [
        "### 11) WAP to find whether the given number is prime or not."
      ]
    },
    {
      "cell_type": "code",
      "execution_count": 8,
      "metadata": {
        "colab": {
          "base_uri": "https://localhost:8080/"
        },
        "id": "hZYzkvLXqJSW",
        "outputId": "322c5311-fcba-4035-de1c-fb1287846619"
      },
      "outputs": [
        {
          "name": "stdout",
          "output_type": "stream",
          "text": [
            "12 is not a prime number.\n"
          ]
        }
      ],
      "source": [
        "n=int(input(\"Enter a number:\"))\n",
        "flag=0\n",
        "for i in range(2,n//2):\n",
        "  if(n%i==0):\n",
        "    flag=0\n",
        "    break;\n",
        "  else:flag=1\n",
        "\n",
        "if(flag==0):\n",
        "  print(f\"{n} is not a prime number.\")\n",
        "else:\n",
        "  print(f\"{n} is a prime number.\")\n",
        "  \n"
      ]
    },
    {
      "cell_type": "markdown",
      "metadata": {
        "id": "2jwkmYG6qJSX"
      },
      "source": [
        "### 12) WAP to print sum of digits of given number"
      ]
    },
    {
      "cell_type": "code",
      "execution_count": null,
      "metadata": {
        "colab": {
          "base_uri": "https://localhost:8080/"
        },
        "id": "wFLxvVoGqJSZ",
        "outputId": "de96e284-0d07-4a28-c030-eb0ab092ed27"
      },
      "outputs": [
        {
          "name": "stdout",
          "output_type": "stream",
          "text": [
            "Enter a number:123\n",
            "Sum of digits of number '123'=  6\n"
          ]
        }
      ],
      "source": [
        "n=int(input(\"Enter a number:\"))\n",
        "temp1=n\n",
        "sum=0\n",
        "while n>=1:\n",
        "  temp=n%10\n",
        "  sum=sum+temp\n",
        "  n=n//10\n",
        "print(f\"Sum of digits of number '{temp1}'= \",sum)"
      ]
    },
    {
      "cell_type": "markdown",
      "metadata": {
        "id": "rP_1GC3rqJSZ"
      },
      "source": [
        "### 13) WAP to check whether the given number is palindrome or not"
      ]
    },
    {
      "cell_type": "code",
      "execution_count": 2,
      "metadata": {
        "colab": {
          "base_uri": "https://localhost:8080/"
        },
        "id": "98su2KAdqJSa",
        "outputId": "38a92ee2-a012-4d37-cb36-2d20bb94c251"
      },
      "outputs": [
        {
          "name": "stdout",
          "output_type": "stream",
          "text": [
            "palidrom\n"
          ]
        }
      ],
      "source": [
        "n=int(input(\"Enter a number: \"))\n",
        "# temp=n\n",
        "# rev=0\n",
        "# while n>=1:\n",
        "#   r=n%10\n",
        "#   rev=(rev*10)+r\n",
        "#   n=n//10\n",
        "# print(f\"Revere number of {temp} = \",temp1)\n",
        "\n",
        "# if(temp==temp1):\n",
        "#   print(f\"Number {temp} is a Palindrome number.\")\n",
        "# else:\n",
        "#   print(f\"Number {temp} is not a Palindrome number.\")\n",
        "rev=int(str(n)[::-1])\n",
        "if(n==rev):\n",
        "    print(\"palidrom\")"
      ]
    },
    {
      "cell_type": "markdown",
      "metadata": {
        "id": "ph54yklpqJSb"
      },
      "source": [
        "### 01) WAP to check whether the given number is Armstrong or not."
      ]
    },
    {
      "cell_type": "code",
      "execution_count": 14,
      "metadata": {
        "colab": {
          "base_uri": "https://localhost:8080/"
        },
        "id": "me2eji8hqJSd",
        "outputId": "e284c56a-4cc9-4957-8201-fbf1115fdd18"
      },
      "outputs": [
        {
          "name": "stdout",
          "output_type": "stream",
          "text": [
            "number 1634 is armstrong\n"
          ]
        }
      ],
      "source": [
        "n= int(input(\"Enter a number:\"))\n",
        "temp=n\n",
        "sum=0\n",
        "count=len(str(n))\n",
        "while n>=1:\n",
        "  r=n%10\n",
        "  sum=sum+pow(r,count)\n",
        "  n=n//10\n",
        "if(temp==sum):\n",
        "  print(f\"number {temp} is armstrong\")\n",
        "else:\n",
        "  print(f\"number {temp} is not armstrong\")\n",
        "  "
      ]
    },
    {
      "cell_type": "markdown",
      "metadata": {
        "id": "5V0p4tcJqJSe"
      },
      "source": [
        "### 02) WAP to find out prime numbers between given two numbers."
      ]
    },
    {
      "cell_type": "code",
      "execution_count": null,
      "metadata": {
        "colab": {
          "base_uri": "https://localhost:8080/"
        },
        "id": "M2gDrqI5qJSg",
        "outputId": "a0086bda-3988-4891-fe56-f3d70e7c7ef8"
      },
      "outputs": [
        {
          "name": "stdout",
          "output_type": "stream",
          "text": [
            "Enter a number,n1= 1\n",
            "Enter a number,n2= 10\n",
            "5 is a prime number.\n",
            "7 is a prime number.\n",
            "9 is a prime number.\n"
          ]
        }
      ],
      "source": [
        "n1=int(input(\"Enter a number,n1= \"))\n",
        "n2=int(input(\"Enter a number,n2= \"))\n",
        "while n1<=n2:\n",
        "  n=n1\n",
        "  flag=0\n",
        "  i=2\n",
        "  while i<n/2:\n",
        "    if(n%i==0):\n",
        "      falg=0\n",
        "      break;\n",
        "    else:\n",
        "      flag=1\n",
        "    i+=1\n",
        "\n",
        "  if(flag==1):\n",
        "    print(f\"{n} is a prime number.\")\n",
        "  n1+=1"
      ]
    },
    {
      "cell_type": "markdown",
      "metadata": {
        "id": "cftI-9LnqJSg"
      },
      "source": [
        "### 03) WAP to calculate x^y without using any function."
      ]
    },
    {
      "cell_type": "code",
      "execution_count": null,
      "metadata": {
        "colab": {
          "base_uri": "https://localhost:8080/"
        },
        "id": "Av6ol8OqqJSh",
        "outputId": "8eae0b60-15f7-4c94-8fe1-0fbf376e85e4"
      },
      "outputs": [
        {
          "name": "stdout",
          "output_type": "stream",
          "text": [
            "Enter amount of x : 12\n",
            "Enter amount of y: 2\n",
            "12^2 =  144\n"
          ]
        }
      ],
      "source": [
        "x=int(input(\"Enter amount of x : \"))\n",
        "y=int(input(\"Enter amount of y: \"))\n",
        "ans=1\n",
        "for i in range(1,y+1):\n",
        "  ans=ans*x\n",
        " \n",
        "print(f\"{x}^{y} = \",ans)"
      ]
    },
    {
      "cell_type": "markdown",
      "metadata": {
        "id": "gXd7SHF1qJSi"
      },
      "source": [
        "### 04) WAP to check whether the given number is perfect or not.\n",
        "[Sum of factors including 1 excluding number itself]"
      ]
    },
    {
      "cell_type": "code",
      "execution_count": null,
      "metadata": {
        "colab": {
          "base_uri": "https://localhost:8080/"
        },
        "id": "HNiXd-U3qJSj",
        "outputId": "891f4cfa-88b2-4d01-fd49-ff2e9fab8f6b"
      },
      "outputs": [
        {
          "name": "stdout",
          "output_type": "stream",
          "text": [
            "Enter a Number : 28\n",
            "number 28 is a perfect number.\n"
          ]
        }
      ],
      "source": [
        "#sum of factors = number then it is perfect\n",
        "n=int(input(\"Enter a Number : \"))\n",
        "sum=0\n",
        "for i in range(1,n):\n",
        "  if(n%i==0):\n",
        "    sum=sum+i\n",
        "if(sum==n):\n",
        "  print(f\"number {n} is a perfect number.\")\n",
        "else:\n",
        "  print(f\"number {n} is not a perfect number.\")\n"
      ]
    },
    {
      "cell_type": "markdown",
      "metadata": {
        "id": "RPaCPDeOqJSk"
      },
      "source": [
        "### 05) WAP to find the sum of 1 + (1+2) + (1+2+3) + (1+2+3+4)+...+(1+2+3+4+....+n)"
      ]
    },
    {
      "cell_type": "code",
      "execution_count": 20,
      "metadata": {
        "colab": {
          "base_uri": "https://localhost:8080/"
        },
        "id": "UwtFpJukqJSl",
        "outputId": "74f80c50-4103-4c2a-e3e6-c139545e1cf9"
      },
      "outputs": [
        {
          "name": "stdout",
          "output_type": "stream",
          "text": [
            "Enter a Nth number of series : 4\n",
            "Sum of given series =  10\n"
          ]
        }
      ],
      "source": [
        "n=int(input(\"Enter a Nth number of series : \"))\n",
        "sum=0\n",
        "for i in range(1,n):\n",
        "  for j in range(1,i+1):sum+=j\n",
        "print(\"Sum of given series = \",sum)"
      ]
    },
    {
      "cell_type": "markdown",
      "metadata": {
        "id": "mpQUXeBsqJSn"
      },
      "source": [
        "### 06) WAP to print Multiplication Table up to n"
      ]
    },
    {
      "cell_type": "code",
      "execution_count": 21,
      "metadata": {
        "colab": {
          "base_uri": "https://localhost:8080/"
        },
        "id": "xLBJ4kSaqJSp",
        "outputId": "e134a617-9bde-4572-8a81-0d815703e0be"
      },
      "outputs": [
        {
          "name": "stdout",
          "output_type": "stream",
          "text": [
            "Enter number of multiplication table,n : 3\n",
            "1 x 1 = 1\n",
            "1 x 2 = 2\n",
            "1 x 3 = 3\n",
            "1 x 4 = 4\n",
            "1 x 5 = 5\n",
            "1 x 6 = 6\n",
            "1 x 7 = 7\n",
            "1 x 8 = 8\n",
            "1 x 9 = 9\n",
            "1 x 10 = 10\n",
            "2 x 1 = 2\n",
            "2 x 2 = 4\n",
            "2 x 3 = 6\n",
            "2 x 4 = 8\n",
            "2 x 5 = 10\n",
            "2 x 6 = 12\n",
            "2 x 7 = 14\n",
            "2 x 8 = 16\n",
            "2 x 9 = 18\n",
            "2 x 10 = 20\n",
            "3 x 1 = 3\n",
            "3 x 2 = 6\n",
            "3 x 3 = 9\n",
            "3 x 4 = 12\n",
            "3 x 5 = 15\n",
            "3 x 6 = 18\n",
            "3 x 7 = 21\n",
            "3 x 8 = 24\n",
            "3 x 9 = 27\n",
            "3 x 10 = 30\n"
          ]
        }
      ],
      "source": [
        "n=int(input(\"Enter number of multiplication table,n : \"))\n",
        "for i in range(1,n+1):\n",
        "  j=1\n",
        "  while(j<=10):\n",
        "    print(i,'x',j ,'=',i*j)\n",
        "    j+=1\n",
        "\n"
      ]
    }
  ],
  "metadata": {
    "colab": {
      "provenance": []
    },
    "kernelspec": {
      "display_name": "Python 3 (ipykernel)",
      "language": "python",
      "name": "python3"
    },
    "language_info": {
      "codemirror_mode": {
        "name": "ipython",
        "version": 3
      },
      "file_extension": ".py",
      "mimetype": "text/x-python",
      "name": "python",
      "nbconvert_exporter": "python",
      "pygments_lexer": "ipython3",
      "version": "3.12.1"
    }
  },
  "nbformat": 4,
  "nbformat_minor": 0
}
