{
  "cells": [
    {
      "cell_type": "markdown",
      "metadata": {
        "id": "Hl79JSrhUsBr"
      },
      "source": [
        "<a href='https://www.darshan.ac.in/'> <img src='https://www.darshan.ac.in/Content/media/DU_Logo.svg' width=\"250\" height=\"300\"/></a>\n",
        "<pre>\n",
        "<center><b><h1>Python Programming - 2101CS405</b></center>\n",
        "<center><b><h1>Lab - 1</b></center>    \n",
        "<pre>"
      ]
    },
    {
      "cell_type": "markdown",
      "metadata": {
        "id": "rhYiokpIUsB_"
      },
      "source": [
        "### 01) WAP to print “Hello World”"
      ]
    },
    {
      "cell_type": "code",
      "execution_count": 2,
      "metadata": {
        "colab": {
          "base_uri": "https://localhost:8080/"
        },
        "id": "gtSxetahUsCC",
        "outputId": "dac2f7bd-4b8c-4478-d50e-8e51df50e857"
      },
      "outputs": [
        {
          "name": "stdout",
          "output_type": "stream",
          "text": [
            "Hello\n"
          ]
        }
      ],
      "source": [
        "print('Hello')\n"
      ]
    },
    {
      "cell_type": "markdown",
      "metadata": {
        "id": "_jLJKE7QUsCG"
      },
      "source": [
        "### 02) WAP to print your address i) using single print ii) using multiple print"
      ]
    },
    {
      "cell_type": "code",
      "execution_count": null,
      "metadata": {
        "colab": {
          "base_uri": "https://localhost:8080/"
        },
        "id": "KdQBLo73UsCJ",
        "outputId": "9966baee-cff9-4ecc-bee3-22b0c39d3260"
      },
      "outputs": [
        {
          "name": "stdout",
          "output_type": "stream",
          "text": [
            "1. Using Single Print\n",
            "\n",
            "Vrundavan-02,\n",
            "Ankur main road,\n",
            "150ft ring road, \n",
            "Rajkot-360004 \n",
            "\n",
            "2. Using multiple Print\n",
            "\n",
            "vrundavan-02,\n",
            "Ankur Main Road,\n",
            "150ft ring road\n",
            "Rajkot-360004\n"
          ]
        }
      ],
      "source": [
        "print('1. Using Single Print\\n')\n",
        "print('Vrundavan-02,\\nAnkur main road,\\n150ft ring road, \\nRajkot-360004 \\n')\n",
        "\n",
        "print('2. Using multiple Print\\n')\n",
        "print('vrundavan-02,')\n",
        "print('Ankur Main Road,')\n",
        "print('150ft ring road')\n",
        "print('Rajkot-360004')"
      ]
    },
    {
      "cell_type": "markdown",
      "metadata": {
        "id": "5OJLnyEoUsCM"
      },
      "source": [
        "### 03) WAP to print addition of 2 numbers (without input function)"
      ]
    },
    {
      "cell_type": "code",
      "execution_count": null,
      "metadata": {
        "colab": {
          "base_uri": "https://localhost:8080/"
        },
        "id": "2EFCJ1v3UsCP",
        "outputId": "89829cd3-7681-4250-b8f3-53edd57c18dc"
      },
      "outputs": [
        {
          "name": "stdout",
          "output_type": "stream",
          "text": [
            "Addition of two numbers: 20\n"
          ]
        }
      ],
      "source": [
        "a=5\n",
        "b=15\n",
        "print('Addition of two numbers:',a+b)\n"
      ]
    },
    {
      "cell_type": "markdown",
      "metadata": {
        "id": "eSdDCmjsUsCQ"
      },
      "source": [
        "### 04) WAP to calculate and print average of 2 numbers (without input function)"
      ]
    },
    {
      "cell_type": "code",
      "execution_count": null,
      "metadata": {
        "colab": {
          "base_uri": "https://localhost:8080/"
        },
        "id": "0LIJ1MibUsCS",
        "outputId": "ff4c358b-56b8-447b-db44-c5c55b0d9fe1"
      },
      "outputs": [
        {
          "name": "stdout",
          "output_type": "stream",
          "text": [
            "Average of two numbers: 7.5\n"
          ]
        }
      ],
      "source": [
        "a=5\n",
        "b=10\n",
        "print('Average of two numbers:',(a+b)/2)"
      ]
    },
    {
      "cell_type": "markdown",
      "metadata": {
        "id": "2oJlZ4l2UsCT"
      },
      "source": [
        "### 05) WAP to add two number entered by user."
      ]
    },
    {
      "cell_type": "code",
      "execution_count": null,
      "metadata": {
        "colab": {
          "base_uri": "https://localhost:8080/"
        },
        "id": "oPLQvR0rUsCU",
        "outputId": "f6647a42-53b1-4166-fe30-6e6d189cf429"
      },
      "outputs": [
        {
          "name": "stdout",
          "output_type": "stream",
          "text": [
            "Enter 1st number:2\n",
            "Enter 2nd number:2\n",
            "Addition of two numbers: 4\n"
          ]
        }
      ],
      "source": [
        "num1=int(input('Enter 1st number:'))\n",
        "num2=int(input('Enter 2nd number:'))\n",
        "print('Addition of two numbers:',num1+num2)"
      ]
    },
    {
      "cell_type": "markdown",
      "metadata": {
        "id": "GBtbssAnUsCV"
      },
      "source": [
        "### 06) WAP to calculate simple interest."
      ]
    },
    {
      "cell_type": "code",
      "execution_count": null,
      "metadata": {
        "colab": {
          "base_uri": "https://localhost:8080/"
        },
        "id": "bVmHyAaHUsCW",
        "outputId": "56c1a6a6-24e1-40b6-cb97-a8495903f963"
      },
      "outputs": [
        {
          "name": "stdout",
          "output_type": "stream",
          "text": [
            "Enter a Principle Amount:1000\n",
            "Enter an intrest Percentage:2\n",
            "Entter a time periods in year:1\n",
            "Simple intrest of the given amount: 20.0\n"
          ]
        }
      ],
      "source": [
        "p=int(input('Enter a Principle Amount:'))\n",
        "i=int(input('Enter an intrest Percentage:'))\n",
        "t=int(input('Entter a time periods in year:'))\n",
        "print('Simple intrest of the given amount:',(p*i*t)/100)"
      ]
    },
    {
      "cell_type": "markdown",
      "metadata": {
        "id": "lXTMP3-ZUsCX"
      },
      "source": [
        "### 07) WAP Calculate Area and Circumfrence of Circle"
      ]
    },
    {
      "cell_type": "code",
      "execution_count": 3,
      "metadata": {
        "colab": {
          "base_uri": "https://localhost:8080/"
        },
        "id": "jV98t_3RUsCY",
        "outputId": "29e29621-5026-40e4-9e89-85c07ae06bfd"
      },
      "outputs": [
        {
          "name": "stdout",
          "output_type": "stream",
          "text": [
            "Area of circle having radius 3 is 28.274333882308138\n",
            "Circumference of circle having radius 3 is 18.84\n"
          ]
        }
      ],
      "source": [
        "import math\n",
        "radius=int(input('Enter radius of circle:'))\n",
        "print(f\"Area of circle having radius {radius} is\",(math.pi*radius*radius))\n",
        "print(f\"Circumference of circle having radius {radius} is\",2*math.pi*radius)"
      ]
    },
    {
      "cell_type": "markdown",
      "metadata": {
        "id": "JxGyuXFFUsCY"
      },
      "source": [
        "### 08) WAP to print Multiplication table of given number without using loops."
      ]
    },
    {
      "cell_type": "code",
      "execution_count": null,
      "metadata": {
        "colab": {
          "base_uri": "https://localhost:8080/"
        },
        "id": "T_CkIea4UsCb",
        "outputId": "d68509e5-1eca-4b45-ea66-0f951ee9ad21"
      },
      "outputs": [
        {
          "name": "stdout",
          "output_type": "stream",
          "text": [
            " Enter a number for multiplication table=12\n",
            "12 * 1 = 12\n",
            "12 * 2 = 24\n",
            "12 * 3 = 36\n",
            "12 * 4 = 48\n",
            "12 * 5 = 60\n",
            "12 * 6 = 72\n",
            "12 * 7 = 84\n",
            "12 * 8 = 96\n",
            "12 * 9 = 108\n",
            "12 * 10 = 120\n"
          ]
        }
      ],
      "source": [
        "n=int(input(\" Enter a number for multiplication table=\"))\n",
        "print(n, \"*\", 1, \"=\", n*1)\n",
        "print(n, \"*\", 2, \"=\", n*2)\n",
        "print(n, \"*\", 3, \"=\", n*3)\n",
        "print(n, \"*\", 4, \"=\", n*4)\n",
        "print(n, \"*\", 5, \"=\", n*5)\n",
        "print(n, \"*\", 6, \"=\", n*6)\n",
        "print(n, \"*\", 7, \"=\", n*7)\n",
        "print(n, \"*\", 8, \"=\", n*8)\n",
        "print(n, \"*\", 9, \"=\", n*9)\n",
        "print(n, \"*\", 10, \"=\", n*10)\n"
      ]
    },
    {
      "cell_type": "markdown",
      "metadata": {
        "id": "0aWE21eWUsCc"
      },
      "source": [
        "### 09) WAP to calculate Area of Triangle (hint: a = h * b * 0.5)"
      ]
    },
    {
      "cell_type": "code",
      "execution_count": 4,
      "metadata": {
        "colab": {
          "base_uri": "https://localhost:8080/"
        },
        "id": "DCYZY1V-UsCd",
        "outputId": "8b46e55c-debb-48da-9b3e-ea11f90f2195"
      },
      "outputs": [
        {
          "name": "stdout",
          "output_type": "stream",
          "text": [
            "Area of Triangle\n",
            "\n",
            "Area of Triangle: 2.0\n"
          ]
        }
      ],
      "source": [
        "print('Area of Triangle\\n')\n",
        "h=float(input('Enter a Height of triangle:'))\n",
        "b=float(input('Enter a base of triangle:'))\n",
        "print('Area of Triangle:',h*b*0.5)"
      ]
    },
    {
      "cell_type": "markdown",
      "metadata": {
        "id": "wPiQlFFKUsCe"
      },
      "source": [
        "### 10) WAP to convert degree to Fahrenheit and vice versa."
      ]
    },
    {
      "cell_type": "code",
      "execution_count": null,
      "metadata": {
        "colab": {
          "base_uri": "https://localhost:8080/"
        },
        "id": "Y5aeXTY8UsCf",
        "outputId": "23ee9ecf-c89f-4648-e91d-0345925e9239"
      },
      "outputs": [
        {
          "name": "stdout",
          "output_type": "stream",
          "text": [
            "Convert temperature celcius to fahrenheit\n",
            "Enter temprature in celcius:40\n",
            "Converted temp. from 40 °C to fahrenheit = 104.0 F\n",
            "\n",
            "Convert temprature fahrenheit to celcius\n",
            "Enter tempratue in fahrenheit:104\n",
            "Converted temprature from 104 F to celcius = 40.0 °C\n"
          ]
        }
      ],
      "source": [
        "print('Convert temperature celcius to fahrenheit')\n",
        "c=int(input('Enter temprature in celcius:'))\n",
        "print(f\"Converted temp. from {c} °C to fahrenheit =\",(c*(9/5))+32,\"F\")\n",
        "print('\\nConvert temprature fahrenheit to celcius')\n",
        "f1=int(input('Enter tempratue in fahrenheit:'))\n",
        "print(f\"Converted temprature from {f1} F to celcius =\",(f1-32)*(5/9),\"°C\")"
      ]
    },
    {
      "cell_type": "markdown",
      "metadata": {
        "id": "UXC5jXFMUsCf"
      },
      "source": [
        "### 11) WAP to calculate total marks and Percentage."
      ]
    },
    {
      "cell_type": "code",
      "execution_count": null,
      "metadata": {
        "colab": {
          "base_uri": "https://localhost:8080/"
        },
        "id": "kippHlwFUsCg",
        "outputId": "e97c04d6-9c8b-4994-a878-ba96b5b9d674"
      },
      "outputs": [
        {
          "name": "stdout",
          "output_type": "stream",
          "text": [
            "Enter subject-1 marks:80\n",
            "Enter subject-2 marks:70\n",
            "Enter subject-3 marks:5\n",
            "Enter subject-4 marks:57\n",
            "Enter subject-5 marks:56\n",
            "Total marks: 268\n",
            "percentage: 53.6 %\n"
          ]
        }
      ],
      "source": [
        "sub1=int(input('Enter subject-1 marks:'))\n",
        "sub2=int(input('Enter subject-2 marks:'))\n",
        "sub3=int(input('Enter subject-3 marks:'))\n",
        "sub4=int(input('Enter subject-4 marks:'))\n",
        "sub5=int(input('Enter subject-5 marks:'))\n",
        "total=sub1+sub2+sub3+sub4+sub5\n",
        "percentage=total*100/500\n",
        "print('Total marks:',total)\n",
        "print('percentage:',percentage,'%')"
      ]
    },
    {
      "cell_type": "markdown",
      "metadata": {
        "id": "fQT472c5UsCh"
      },
      "source": [
        "### 12) Compute distance between two points taking input from the user (Pythagorean Theorem)."
      ]
    },
    {
      "cell_type": "code",
      "execution_count": null,
      "metadata": {
        "colab": {
          "base_uri": "https://localhost:8080/"
        },
        "id": "1d74x_OqUsCh",
        "outputId": "3507a5ca-80ee-4fc0-b929-a8c870099280"
      },
      "outputs": [
        {
          "name": "stdout",
          "output_type": "stream",
          "text": [
            "Enter X1 Coordinate : 4\n",
            "Enter X2 Coordinate : 2\n",
            "Enter y1 Coordinate : 4\n",
            "Enter y2 Coordinate : 2\n",
            "Distance between (4,2) and (4,2) is 2.8284271247461903\n"
          ]
        }
      ],
      "source": [
        "x1 = int(input(\"Enter X1 Coordinate : \"))\n",
        "x2 = int(input(\"Enter X2 Coordinate : \"))\n",
        "y1 = int(input(\"Enter y1 Coordinate : \"))\n",
        "y2 = int(input(\"Enter y2 Coordinate : \"))\n",
        "dis = ((x1-x2)**2+(y1-y2)**2)**0.5\n",
        "print(f\"Distance between ({x1},{x2}) and ({y1},{y2}) is\",dis)"
      ]
    },
    {
      "cell_type": "markdown",
      "metadata": {
        "id": "Kar-yIsJUsCi"
      },
      "source": [
        "### 13) WAP to convert seconds into hours, minutes & seconds and print in HH:MM:SS\n",
        "[e.g. 10000 seconds mean 2:46:40 (2 Hours, 46 Minutes, 40Seconds)]"
      ]
    },
    {
      "cell_type": "code",
      "execution_count": null,
      "metadata": {
        "colab": {
          "base_uri": "https://localhost:8080/"
        },
        "id": "xlouHuCIUsCi",
        "outputId": "4ad12249-7e5c-4997-fdba-e8d830de8133"
      },
      "outputs": [
        {
          "name": "stdout",
          "output_type": "stream",
          "text": [
            "Enter second=10000\n",
            "Time=2:46:40\n"
          ]
        }
      ],
      "source": [
        "sec=int(input('Enter second='))\n",
        "hour=sec//3600\n",
        "min=(sec%3600)//60\n",
        "second=(sec%3600)%60\n",
        "print(f\"Time={hour}:{min}:{second}\")"
      ]
    },
    {
      "cell_type": "markdown",
      "metadata": {
        "id": "i2ZVqknvUsCj"
      },
      "source": [
        "### 14) WAP to enter distance into kilometer and convert it into meter, feet,inches, and centimeter"
      ]
    },
    {
      "cell_type": "code",
      "execution_count": null,
      "metadata": {
        "colab": {
          "base_uri": "https://localhost:8080/"
        },
        "id": "I6frNkRLUsCj",
        "outputId": "e76a037f-ad2a-40ae-ca1e-8f64702971f4"
      },
      "outputs": [
        {
          "name": "stdout",
          "output_type": "stream",
          "text": [
            "Enter Distance in kilometre,(km) =2\n",
            "Distance 2km converted into diffrent parametres\n",
            "\n",
            "2km = 2000m (Meter)\n",
            "2km = 6562ft (Feet)\n",
            "2km = 78740in (Inches)\n",
            "2km = 200000cm (Centimetre)\n"
          ]
        }
      ],
      "source": [
        "distance=int(input(\"Enter Distance in kilometre,(km) =\"))\n",
        "metre=distance*1000\n",
        "feet=distance*3281\n",
        "inches=distance*39370\n",
        "cm=distance*100000\n",
        "print(f\"Distance {distance}km converted into diffrent parametres\\n\\n{distance}km = {metre}m (Meter)\\n{distance}km = {feet}ft (Feet)\\n{distance}km = {inches}in (Inches)\\n{distance}km = {cm}cm (Centimetre)\")\n"
      ]
    }
  ],
  "metadata": {
    "colab": {
      "provenance": []
    },
    "kernelspec": {
      "display_name": "Python 3 (ipykernel)",
      "language": "python",
      "name": "python3"
    },
    "language_info": {
      "codemirror_mode": {
        "name": "ipython",
        "version": 3
      },
      "file_extension": ".py",
      "mimetype": "text/x-python",
      "name": "python",
      "nbconvert_exporter": "python",
      "pygments_lexer": "ipython3",
      "version": "3.9.13"
    }
  },
  "nbformat": 4,
  "nbformat_minor": 0
}
