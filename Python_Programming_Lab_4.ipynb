{
  "cells": [
    {
      "cell_type": "markdown",
      "metadata": {
        "id": "L4B__1ltKIwc"
      },
      "source": [
        "\n",
        "<a href='https://www.darshan.ac.in/'> <img src='https://www.darshan.ac.in/Content/media/DU_Logo.svg' width=\"250\" height=\"300\"/></a>\n",
        "<pre>\n",
        "<center><b><h1>Python Programming - 2101CS405</b></center>\n",
        "<center><b><h1>Lab - 4</b></center>    \n",
        "<pre>"
      ]
    },
    {
      "cell_type": "markdown",
      "metadata": {
        "id": "HPmfWTzQKIwk"
      },
      "source": [
        "# String"
      ]
    },
    {
      "cell_type": "markdown",
      "metadata": {
        "id": "TTK0pm2nKIwk"
      },
      "source": [
        "### 01) WAP to check given string is palindrome or not."
      ]
    },
    {
      "cell_type": "code",
      "execution_count": 2,
      "metadata": {
        "colab": {
          "base_uri": "https://localhost:8080/"
        },
        "id": "25425RY8KIwl",
        "outputId": "efcd088c-41c5-48d7-c425-b9e6485751d2"
      },
      "outputs": [
        {
          "name": "stdout",
          "output_type": "stream",
          "text": [
            "String is not Palindrom.\n"
          ]
        }
      ],
      "source": [
        "a=input(\"Enter a String : \")\n",
        "rev=a[::-1]\n",
        "if(a==rev):\n",
        "  print(\"String is palindrom.\")\n",
        "else:\n",
        "  print(\"String is not Palindrom.\")\n"
      ]
    },
    {
      "cell_type": "markdown",
      "metadata": {
        "id": "48Eb6hYoKIwm"
      },
      "source": [
        "### 02) WAP to reverse the words in given string."
      ]
    },
    {
      "cell_type": "code",
      "execution_count": 1,
      "metadata": {
        "colab": {
          "base_uri": "https://localhost:8080/"
        },
        "id": "T3-pMrG-KIwn",
        "outputId": "81e7c517-b23a-42bf-c086-90fbbb47c0f5"
      },
      "outputs": [
        {
          "name": "stdout",
          "output_type": "stream",
          "text": [
            "Renisha "
          ]
        }
      ],
      "source": [
        "a=input(\"Enter Sentence : \")\n",
        "rev=a.split(\" \")\n",
        "for i in rev[::-1]:\n",
        "  print(i,end=\" \")\n"
      ]
    },
    {
      "cell_type": "markdown",
      "metadata": {
        "id": "PXi7yACtKIwn"
      },
      "source": [
        "### 03) WAP to remove ith character from given string"
      ]
    },
    {
      "cell_type": "code",
      "execution_count": 2,
      "metadata": {
        "colab": {
          "base_uri": "https://localhost:8080/",
          "height": 70
        },
        "id": "CNFSDgz9KIwo",
        "outputId": "b0ceb693-82eb-4e98-ee7e-7a97ccec103c"
      },
      "outputs": [
        {
          "data": {
            "text/plain": [
              "'Renii'"
            ]
          },
          "execution_count": 2,
          "metadata": {},
          "output_type": "execute_result"
        }
      ],
      "source": [
        "a=input(\"Enter a String: \")\n",
        "b=int(input(\"Enter a position of Character you want to remove : \"))\n",
        "string=a[:b-1]+a[b:]\n",
        "string"
      ]
    },
    {
      "cell_type": "markdown",
      "metadata": {
        "id": "c94H8acsKIwp"
      },
      "source": [
        "### 04) WAP to find length of String without using len function."
      ]
    },
    {
      "cell_type": "code",
      "execution_count": 3,
      "metadata": {
        "colab": {
          "base_uri": "https://localhost:8080/"
        },
        "id": "iHfbeNqHKIwp",
        "outputId": "b231ef7a-7b2c-403f-b764-a3cf81510284"
      },
      "outputs": [
        {
          "name": "stdout",
          "output_type": "stream",
          "text": [
            "Length of string is :  14\n"
          ]
        }
      ],
      "source": [
        "a=input(\"Enter a String : \")\n",
        "count=0\n",
        "for i in a:\n",
        "  count+=1\n",
        "print(\"Length of string is : \",count)"
      ]
    },
    {
      "cell_type": "markdown",
      "metadata": {
        "id": "DeFi9BndKIwq"
      },
      "source": [
        "### 05) WAP to print even length word in string."
      ]
    },
    {
      "cell_type": "code",
      "execution_count": null,
      "metadata": {
        "colab": {
          "base_uri": "https://localhost:8080/"
        },
        "id": "ZZc1tVrBKIwq",
        "outputId": "2e0a9a4f-0b7c-4639-b408-bec71ecde26f"
      },
      "outputs": [
        {
          "name": "stdout",
          "output_type": "stream",
          "text": [
            "ENter a String : this is a python program\n",
            "String :  ['this', 'is', 'a', 'python', 'program']\n",
            "Even length Word in String : \n",
            "this,is,python,"
          ]
        }
      ],
      "source": [
        "a=input(\"ENter a String : \")\n",
        "ch=a.split(\" \")\n",
        "print(\"String : \",ch)\n",
        "print(\"Even length Word in String : \")\n",
        "for i in ch:\n",
        "  if len(i)%2==0:\n",
        "    print(i,end=\",\")"
      ]
    },
    {
      "cell_type": "markdown",
      "metadata": {
        "id": "Tlx3OgrNKIwr"
      },
      "source": [
        "### 06) WAP to count numbers of vowels in given string."
      ]
    },
    {
      "cell_type": "code",
      "execution_count": 3,
      "metadata": {
        "colab": {
          "base_uri": "https://localhost:8080/"
        },
        "id": "L73W0OCVKIwr",
        "outputId": "dea547e3-4367-4cd9-c9ba-e2420d80bc33"
      },
      "outputs": [
        {
          "name": "stdout",
          "output_type": "stream",
          "text": [
            "Total vowels in a String =  10\n"
          ]
        }
      ],
      "source": [
        "a=input(\"Enter a String : \")\n",
        "count=0\n",
        "for i in a:\n",
        "  if (i in('a','e','i','o','u','A','E','I','O','U')):\n",
        "    count+=1\n",
        "print(\"Total vowels in a String = \",count)"
      ]
    },
    {
      "cell_type": "markdown",
      "metadata": {
        "id": "AaYb-iKCKIws"
      },
      "source": [
        "### 07) WAP to convert given array to string."
      ]
    },
    {
      "cell_type": "code",
      "execution_count": null,
      "metadata": {
        "colab": {
          "base_uri": "https://localhost:8080/"
        },
        "id": "FJWj20eRKIws",
        "outputId": "80fa6e77-01d9-4db5-d329-12057c25441e"
      },
      "outputs": [
        {
          "name": "stdout",
          "output_type": "stream",
          "text": [
            "I AM Student Of Darshan University\n"
          ]
        }
      ],
      "source": [
        "a=['I','AM','Student','Of','Darshan','University']\n",
        "s=\" \"\n",
        "print(s.join(a))"
      ]
    },
    {
      "cell_type": "markdown",
      "metadata": {
        "id": "qimba5eqKIws"
      },
      "source": [
        "### 01) WAP to find out duplicate characters in given string."
      ]
    },
    {
      "cell_type": "code",
      "execution_count": null,
      "metadata": {
        "colab": {
          "base_uri": "https://localhost:8080/"
        },
        "id": "SmibHHNrKIwt",
        "outputId": "4f75705c-76be-4f56-9d5d-d1176d526d73"
      },
      "outputs": [
        {
          "name": "stdout",
          "output_type": "stream",
          "text": [
            "Enter String : Darshan University\n",
            "{'a': 2, 'r': 2, 's': 2, 'n': 2, 'i': 2}\n"
          ]
        }
      ],
      "source": [
        "string = input(\"Enter String : \").lower()\n",
        "dictionary={}\n",
        "for i in string:\n",
        "    if string.count(i) > 1:\n",
        "        dictionary[i]=string.count(i);\n",
        "print(dictionary)"
      ]
    },
    {
      "cell_type": "markdown",
      "metadata": {
        "id": "TAJzgxhVKIwt"
      },
      "source": [
        "### 02) WAP to capitalize the first and last character of each word in a string."
      ]
    },
    {
      "cell_type": "code",
      "execution_count": 4,
      "metadata": {
        "colab": {
          "base_uri": "https://localhost:8080/"
        },
        "id": "sp8K82xQKIwt",
        "outputId": "a9d5003b-78ef-4270-b74e-fddab6604d11"
      },
      "outputs": [
        {
          "name": "stdout",
          "output_type": "stream",
          "text": [
            " ReniI \n"
          ]
        }
      ],
      "source": [
        "s=input(\"Enter a String : \")\n",
        "list=s.split(\" \")\n",
        "st=' '\n",
        "for i in list:\n",
        "  st+=i[0].upper()+i[1:len(i)-1]+i[len(i)-1].upper()+\" \"\n",
        "print(st)"
      ]
    },
    {
      "cell_type": "markdown",
      "metadata": {
        "id": "2Epjgs_HKIwu"
      },
      "source": [
        "### 03) WAP to find Maximum frequency character in String."
      ]
    },
    {
      "cell_type": "code",
      "execution_count": 6,
      "metadata": {
        "colab": {
          "base_uri": "https://localhost:8080/"
        },
        "id": "49xU_XqkKIwu",
        "outputId": "123b95d3-b88b-4b76-c73f-68b81fc3bb61"
      },
      "outputs": [
        {
          "name": "stdout",
          "output_type": "stream",
          "text": [
            "b = 2\n"
          ]
        }
      ],
      "source": [
        "string = input(\"Enter String : \").lower()\n",
        "dictionary={}\n",
        "for i in string:\n",
        "    if string.count(i) > 1:\n",
        "        dictionary[i]=string.count(i);\n",
        "print(max(dictionary,key=dictionary.get),end=' ')\n",
        "print(\"=\",dictionary[max(dictionary,key=dictionary.get)])\n"
      ]
    },
    {
      "cell_type": "markdown",
      "metadata": {
        "id": "ioF3T2EeKIwv"
      },
      "source": [
        "### 04) WAP to find Minimum frequency character in String."
      ]
    },
    {
      "cell_type": "code",
      "execution_count": 7,
      "metadata": {
        "colab": {
          "base_uri": "https://localhost:8080/"
        },
        "id": "QeXKLiBYKIwv",
        "outputId": "8e96e18b-0b44-4dcc-e540-a30320e02129"
      },
      "outputs": [
        {
          "name": "stdout",
          "output_type": "stream",
          "text": [
            "i = 1\n"
          ]
        }
      ],
      "source": [
        "string = input(\"Enter String : \").lower()\n",
        "dictionary={}\n",
        "for i in string:\n",
        "    dictionary[i]=string.count(i);\n",
        "print(min(dictionary,key=dictionary.get),end=' ')\n",
        "print(\"=\",dictionary[min(dictionary,key=dictionary.get)])"
      ]
    },
    {
      "cell_type": "markdown",
      "metadata": {
        "id": "hHDrYXS1KIww"
      },
      "source": [
        "### 05) WAP to check if a given string is binary string or not"
      ]
    },
    {
      "cell_type": "code",
      "execution_count": null,
      "metadata": {
        "colab": {
          "base_uri": "https://localhost:8080/"
        },
        "id": "A7sgYlCmKIww",
        "outputId": "0639f82f-3aa1-4d6d-f953-7466acbc0121"
      },
      "outputs": [
        {
          "name": "stdout",
          "output_type": "stream",
          "text": [
            "Enter a String : 010101\n",
            "Given String is a Binary String.\n"
          ]
        }
      ],
      "source": [
        "string=input(\"Enter a String : \")\n",
        "for i in string:\n",
        "  if i not in [\"0\",\"1\"]:\n",
        "    print(\"Given String is not a Binary String.\")\n",
        "    break;\n",
        "else:\n",
        "    print(\"Given String is a Binary String.\")\n"
      ]
    }
  ],
  "metadata": {
    "colab": {
      "provenance": []
    },
    "kernelspec": {
      "display_name": "Python 3 (ipykernel)",
      "language": "python",
      "name": "python3"
    },
    "language_info": {
      "codemirror_mode": {
        "name": "ipython",
        "version": 3
      },
      "file_extension": ".py",
      "mimetype": "text/x-python",
      "name": "python",
      "nbconvert_exporter": "python",
      "pygments_lexer": "ipython3",
      "version": "3.12.1"
    }
  },
  "nbformat": 4,
  "nbformat_minor": 0
}
