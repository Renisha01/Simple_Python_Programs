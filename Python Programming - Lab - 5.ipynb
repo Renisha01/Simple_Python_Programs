{
 "cells": [
  {
   "cell_type": "markdown",
   "metadata": {},
   "source": [
    "\n",
    "<a href='https://www.darshan.ac.in/'> <img src='https://www.darshan.ac.in/Content/media/DU_Logo.svg' width=\"250\" height=\"300\"/></a>\n",
    "<pre>\n",
    "<center><b><h1>Python Programming - 2101CS405</b></center>\n",
    "<center><b><h1>Lab - 5</b></center>    \n",
    "<pre>"
   ]
  },
  {
   "cell_type": "markdown",
   "metadata": {},
   "source": [
    "# list"
   ]
  },
  {
   "cell_type": "markdown",
   "metadata": {},
   "source": [
    "### 01) WAP to find sum of all the elements in List."
   ]
  },
  {
   "cell_type": "code",
   "execution_count": 1,
   "metadata": {},
   "outputs": [
    {
     "name": "stdout",
     "output_type": "stream",
     "text": [
      "[2, 3, 5, 7, 11, 13, 17, 19, 23, 29, 31, 37, 41, 43, 47, 53, 59, 61, 67, 71, 73, 79, 83, 89, 97]\n"
     ]
    }
   ],
   "source": [
    "# l1=[]\n",
    "# n=int(input(\"Enter a number of element into list : \"))\n",
    "\n",
    "# for i in range(0,n):\n",
    "#     l1.append(int(input(\"Enter a element : \")))\n",
    "\n",
    "# print(sum(l1))\n",
    "def primes(n):\n",
    "  \"\"\"\n",
    "  This function takes an integer n and returns a list of all prime numbers up to n.\n",
    "  \"\"\"\n",
    "  # Create a list to store the prime numbers\n",
    "  primes = []\n",
    "  # Iterate through all numbers from 2 to n\n",
    "  for num in range(2, n + 1):\n",
    "    # Assume the number is prime initially\n",
    "    is_prime = True\n",
    "    # Iterate through all numbers from 2 to the square root of num\n",
    "    for i in range(2, int(num**0.5) + 1):\n",
    "      # If num is divisible by any number other than 1 and itself, it's not prime\n",
    "      if num % i == 0:\n",
    "        is_prime = False\n",
    "        break\n",
    "    # If the number is prime, append it to the list\n",
    "    if is_prime:\n",
    "      primes.append(num)\n",
    "  # Return the list of prime numbers\n",
    "  return primes\n",
    "\n",
    "# Example usage: Print the prime numbers up to 100\n",
    "print(primes(100))\n"
   ]
  },
  {
   "cell_type": "markdown",
   "metadata": {},
   "source": [
    "### 02) WAP to find largest element in a List."
   ]
  },
  {
   "cell_type": "code",
   "execution_count": 6,
   "metadata": {},
   "outputs": [
    {
     "name": "stdout",
     "output_type": "stream",
     "text": [
      "Max element of List :  6\n"
     ]
    }
   ],
   "source": [
    "l1=[]\n",
    "n=int(input(\"Enter a number of element into list : \"))\n",
    "for i in range(0,n):\n",
    "        l1.append(int(input(\"Enter a element : \")))\n",
    "print(\"Max element of List : \",max(l1))\n",
    "# max=l1[0]\n",
    "# for i in l1:\n",
    "# if l1[i]>max:\n",
    "# max=i\n"
   ]
  },
  {
   "cell_type": "markdown",
   "metadata": {},
   "source": [
    "### 03) WAP to split the List into two and append the first part to the end."
   ]
  },
  {
   "cell_type": "code",
   "execution_count": 2,
   "metadata": {},
   "outputs": [
    {
     "data": {
      "text/plain": [
       "[1, 3, 4, 6, 12, 21, 31]"
      ]
     },
     "execution_count": 2,
     "metadata": {},
     "output_type": "execute_result"
    }
   ],
   "source": [
    "l1=[12,21,31,1,3,4,6]\n",
    "l2=l1[0:len(l1)//2]\n",
    "l3=l1[len(l1)//2::]\n",
    "l3.extend(l2)\n",
    "l3\n"
   ]
  },
  {
   "cell_type": "markdown",
   "metadata": {},
   "source": [
    "### 04) WAP to interchange first and last elements in list entered by a user."
   ]
  },
  {
   "cell_type": "code",
   "execution_count": 5,
   "metadata": {},
   "outputs": [
    {
     "name": "stdout",
     "output_type": "stream",
     "text": [
      "Enter proper index.\n"
     ]
    }
   ],
   "source": [
    "l = [int(input(\"enter element : \")) for i in range(5)]\n",
    "e1 = int(input(\"enter first index : \"))\n",
    "e2 = int(input(\"enter second index : \"))\n",
    "if e1<5 and e2<5 :\n",
    "    l[e1],l[e2]=l[e2],l[e1]\n",
    "    print(l)\n",
    "else:\n",
    "    print(\"Enter proper index.\")\n"
   ]
  },
  {
   "cell_type": "markdown",
   "metadata": {},
   "source": [
    "### 05) WAP to interchange the elements on two positions entered by a user."
   ]
  },
  {
   "cell_type": "code",
   "execution_count": null,
   "metadata": {},
   "outputs": [],
   "source": [
    "# %reset\n",
    "l1=[]\n",
    "n=int(input(\"Enter a number of element into list : \"))\n",
    "for i in range(0,n):\n",
    "    l1.append(int(input(\"Enter a element : \")))\n",
    "i=int(input(\"Enter a position to element : \"))\n",
    "j=int(input(\"Enter a position of element you want to put element : \"))\n",
    "while(True):\n",
    "    if(i>len(l1) or j>len(l1)):\n",
    "        print(\"Enter position according to list length\")\n",
    "        i=int(input(\"Enter a position to element : \"))\n",
    "        j=int(input(\"Enter a position of element you want to put element : \"))\n",
    "    else:\n",
    "        break;\n",
    "        l1[i-1],l1[j-1]=l1[j-1],l1[i-1]\n",
    "        l1\n"
   ]
  },
  {
   "cell_type": "markdown",
   "metadata": {},
   "source": [
    "### 06) WAP to reverses the list entered by user."
   ]
  },
  {
   "cell_type": "code",
   "execution_count": 7,
   "metadata": {},
   "outputs": [
    {
     "name": "stdout",
     "output_type": "stream",
     "text": [
      "[23, 11, 23, 6, 54, 12]\n"
     ]
    }
   ],
   "source": [
    "# %reset\n",
    "l1=[12,54,6,23,11,23]\n",
    "print(l1[::-1])\n"
   ]
  },
  {
   "cell_type": "markdown",
   "metadata": {},
   "source": [
    "### 07) Python program to remove multiple elements from a list using list comprehension"
   ]
  },
  {
   "cell_type": "code",
   "execution_count": null,
   "metadata": {},
   "outputs": [],
   "source": [
    "list1 = [int(input(\"Enter element : \")) for i in range (10)]\n",
    "rangeOfDelArr = int(input(\"how many elements to be deleted : \"))\n",
    "elements_to_remove =[int(input(\"Enter element to delete : \"))\n",
    " for i in range(rangeOfDelArr)]\n",
    "list1 = [i for i in list1 if i not in elements_to_remove]\n",
    "list1"
   ]
  },
  {
   "cell_type": "markdown",
   "metadata": {},
   "source": [
    "### 08) Create a list from the specified start to end index of another list."
   ]
  },
  {
   "cell_type": "code",
   "execution_count": null,
   "metadata": {},
   "outputs": [],
   "source": [
    "l = [int(input(\"enter number : \")) for i in range(10)]\n",
    "i1 = int(input(\"enter first index : \"))\n",
    "i2 = int(input(\"enter second index : \"))\n",
    "l[i1:i2:]\n"
   ]
  },
  {
   "cell_type": "markdown",
   "metadata": {},
   "source": [
    "### 09) Input comma separated elements, convert into list and print."
   ]
  },
  {
   "cell_type": "code",
   "execution_count": 8,
   "metadata": {},
   "outputs": [
    {
     "data": {
      "text/plain": [
       "['56']"
      ]
     },
     "execution_count": 8,
     "metadata": {},
     "output_type": "execute_result"
    }
   ],
   "source": [
    "input(\"Enter elements comma seprated : \").split(',')"
   ]
  },
  {
   "cell_type": "markdown",
   "metadata": {},
   "source": [
    "### 01) WAP to count Even and Odd numbers in a List."
   ]
  },
  {
   "cell_type": "code",
   "execution_count": null,
   "metadata": {},
   "outputs": [],
   "source": [
    "l = [int(input(\"Enter element : \")) for i in range (10)]\n",
    "countOfEven=0\n",
    "for i in l:\n",
    "    if i % 2 == 0:\n",
    "        countOfEven+=1\n",
    "else:\n",
    "    print(f\"Even: {countOfEven} , Odd: {len(l)-countOfEven}\")\n"
   ]
  },
  {
   "cell_type": "markdown",
   "metadata": {},
   "source": [
    "### 02) Python program to find N largest and smallest elements from the list"
   ]
  },
  {
   "cell_type": "code",
   "execution_count": null,
   "metadata": {},
   "outputs": [],
   "source": [
    "l = [int(input(\"Enter element : \")) for i in range (10)]\n",
    "l.sort()\n",
    "l2 = l[::-1]\n",
    "n = int(input(\"enter nunmber : \"))\n",
    "print(\"Min : \",l[0:n:])\n",
    "print(\"Max : \",l2[0:n:])"
   ]
  },
  {
   "cell_type": "markdown",
   "metadata": {},
   "source": [
    "### 03) WAP to print duplicates from a list of integers"
   ]
  },
  {
   "cell_type": "code",
   "execution_count": null,
   "metadata": {},
   "outputs": [],
   "source": [
    "l = [int(input(\"Enter element : \")) for i in range (5)]\n",
    "n = set()\n",
    "for i,v in enumerate(l):\n",
    "    if v in l[i+1::]:\n",
    "        n.add(v)\n",
    "print(list(n))"
   ]
  }
 ],
 "metadata": {
  "kernelspec": {
   "display_name": "Python 3",
   "language": "python",
   "name": "python3"
  },
  "language_info": {
   "codemirror_mode": {
    "name": "ipython",
    "version": 3
   },
   "file_extension": ".py",
   "mimetype": "text/x-python",
   "name": "python",
   "nbconvert_exporter": "python",
   "pygments_lexer": "ipython3",
   "version": "3.12.1"
  },
  "vscode": {
   "interpreter": {
    "hash": "f4057d8494ef9bb149bf2761f02872c2b34b1decf069e627c3854f5734c0bb98"
   }
  }
 },
 "nbformat": 4,
 "nbformat_minor": 4
}
