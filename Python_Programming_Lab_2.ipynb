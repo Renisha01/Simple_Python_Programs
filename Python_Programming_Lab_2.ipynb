{
  "cells": [
    {
      "cell_type": "markdown",
      "metadata": {
        "id": "hTfzHgszjP7p"
      },
      "source": [
        "\n",
        "<a href='https://www.darshan.ac.in/'> <img src='https://www.darshan.ac.in/Content/media/DU_Logo.svg' width=\"250\" height=\"300\"/></a>\n",
        "<pre>\n",
        "<center><b><h1>Python Programming - 2101CS405</b></center>\n",
        "<center><b><h1>Lab - 2</b></center>    \n",
        "<pre>"
      ]
    },
    {
      "cell_type": "markdown",
      "metadata": {
        "id": "qKQpgJAGjP7w"
      },
      "source": [
        "# if..else.."
      ]
    },
    {
      "cell_type": "markdown",
      "metadata": {
        "id": "vT5F4qWljP7y"
      },
      "source": [
        "### 01) WAP to check whether the given number is positive or negative."
      ]
    },
    {
      "cell_type": "code",
      "execution_count": null,
      "metadata": {
        "colab": {
          "base_uri": "https://localhost:8080/"
        },
        "id": "YhKyB0QNjP7z",
        "outputId": "0482391f-bbee-4183-eb5f-e6e691d188b3"
      },
      "outputs": [
        {
          "output_type": "stream",
          "name": "stdout",
          "text": [
            "Enter an number=-10\n",
            "Number -10 is negative\n"
          ]
        }
      ],
      "source": [
        "n=int(input('Enter an number='))\n",
        "if(n<0):\n",
        "    print(f\"Number {n} is negative\")\n",
        "\n",
        "if(n>0):\n",
        "    print(f\"Number {n} is positive\")\n",
        "if(n==0):\n",
        "    print(\"Number is zero (0)\")\n"
      ]
    },
    {
      "cell_type": "markdown",
      "metadata": {
        "id": "my3sC-RIjP72"
      },
      "source": [
        "### 02) WAP to check whether the given number is odd or even"
      ]
    },
    {
      "cell_type": "code",
      "execution_count": null,
      "metadata": {
        "colab": {
          "base_uri": "https://localhost:8080/"
        },
        "id": "xLe0kCwrjP74",
        "outputId": "b2893229-fd88-4116-b7a6-3bbdff4adc99"
      },
      "outputs": [
        {
          "output_type": "stream",
          "name": "stdout",
          "text": [
            "Enter a number=13\n",
            "Number 13 is odd\n"
          ]
        }
      ],
      "source": [
        "n=int(input(\"Enter a number=\"))\n",
        "if(n%2==0):\n",
        "  print(\"Number {n} is Even\")\n",
        "else:\n",
        "  print(f\"Number {n} is odd\")"
      ]
    },
    {
      "cell_type": "markdown",
      "metadata": {
        "id": "2ad0HRymjP75"
      },
      "source": [
        "### 03) WAP to find out largest number from given two numbers using simple if and ternary operator."
      ]
    },
    {
      "cell_type": "code",
      "execution_count": null,
      "metadata": {
        "colab": {
          "base_uri": "https://localhost:8080/"
        },
        "id": "qHX2uOtNjP75",
        "outputId": "d78fbfad-9d4a-4b8f-e93c-b3f8d02f3209"
      },
      "outputs": [
        {
          "output_type": "stream",
          "name": "stdout",
          "text": [
            "Enter a 1st number=1\n",
            "Enter a 2nd Number2\n",
            "Out of two number, 2 is greater than 1\n",
            "\n",
            "using ternary oprator\n",
            "Out of two number, 2 is greater than 1\n"
          ]
        }
      ],
      "source": [
        "n1=int(input(\"Enter a 1st number=\"))\n",
        "n2=int(input(\"Enter a 2nd Number\"))\n",
        "if(n1>n2):\n",
        "  print(f\"Out of two number {n1} is greater than {n2}\")\n",
        "else:\n",
        "  print(f\"Out of two number, {n2} is greater than {n1}\")\n",
        "\n",
        "print(\"\\nusing ternary oprator\")\n",
        "print(f\"Out of two number {n1} is greater than {n2}\") if n1>n2 else  print(f\"Out of two number, {n2} is greater than {n1}\")\n"
      ]
    },
    {
      "cell_type": "markdown",
      "metadata": {
        "id": "eeOKi5j1jP76"
      },
      "source": [
        "### 04) WAP to find out largest number from given three numbers."
      ]
    },
    {
      "cell_type": "code",
      "execution_count": null,
      "metadata": {
        "id": "4lr1Vf0NjP77",
        "colab": {
          "base_uri": "https://localhost:8080/"
        },
        "outputId": "7a842f42-bcb7-485d-92ff-d3e65a8e9870"
      },
      "outputs": [
        {
          "output_type": "stream",
          "name": "stdout",
          "text": [
            "Enter a 1st number= 1\n",
            "Enter a 2nd number= 1\n",
            "Enter a 3rd number= 1\n",
            "All numbers are same.\n"
          ]
        }
      ],
      "source": [
        "n1=int(input(\"Enter a 1st number= \"))\n",
        "n2=int(input(\"Enter a 2nd number= \"))\n",
        "n3=int(input(\"Enter a 3rd number= \"))\n",
        "if(n1>n2):\n",
        "  if(n1>n3):\n",
        "    print(f\"Out of three number n1={n1} is greater number..\")\n",
        "  else:\n",
        "    print(f\"Out of three {n3} is greater number.\")\n",
        "elif(n2>n1):\n",
        "  if(n2>n3):\n",
        "    print(f\"Out of three number {n2} is greater number.\")\n",
        "  else:\n",
        "    print(f\"Out of three {n3} is greater number.\")\n",
        "else:\n",
        "  print(\"All numbers are same.\")\n"
      ]
    },
    {
      "cell_type": "markdown",
      "metadata": {
        "id": "iLyo5FkejP77"
      },
      "source": [
        "### 05) WAP to check whether the given year is leap year or not.\n",
        "[If a year can be divisible by 4 but not divisible by 100 then it is leap year but if it is divisible by 400 then it is leap year]"
      ]
    },
    {
      "cell_type": "code",
      "execution_count": 1,
      "metadata": {
        "id": "Ygw_L0rBjP78",
        "colab": {
          "base_uri": "https://localhost:8080/",
          "height": 0
        },
        "outputId": "f8983fdb-8b4b-4afb-e1f3-f61fc7775f85"
      },
      "outputs": [
        {
          "output_type": "stream",
          "name": "stdout",
          "text": [
            "Enter a year=2200\n",
            "2200 year is not a leap year.\n"
          ]
        }
      ],
      "source": [
        "year=int(input(\"Enter a year=\"))\n",
        "if(year%100==0):\n",
        "  if(year%400!=0):\n",
        "    print(f\"{year} year is not a leap year.\")\n",
        "  else:\n",
        "    print(f\"{year} is a leap year.\")\n",
        "else:\n",
        "  if(year%4==0):\n",
        "    print(f\"{year} year is leap year.\")\n",
        "  else:\n",
        "    print(f\"{year} is not a leap year.\")\n"
      ]
    },
    {
      "cell_type": "markdown",
      "metadata": {
        "id": "kxJgtJ6jjP79"
      },
      "source": [
        "### 06) WAP in python to display the name of the day according to the number given by the user"
      ]
    },
    {
      "cell_type": "code",
      "execution_count": null,
      "metadata": {
        "id": "vwVNlaYGjP79",
        "colab": {
          "base_uri": "https://localhost:8080/"
        },
        "outputId": "1457ee06-a021-474f-92e0-cb9afda3d0c8"
      },
      "outputs": [
        {
          "output_type": "stream",
          "name": "stdout",
          "text": [
            "Enter number according the list\n",
            "1. Sunday\n",
            "2. Monday\n",
            "3. Tuesday\n",
            "4. Wednesday\n",
            "5. Thursday\n",
            "6. Friday\n",
            "7. Saturday\n",
            "\n",
            "Enter number for day according to above instruction+ 1\n",
            "Sunday\n"
          ]
        }
      ],
      "source": [
        "print(\"Enter number according the list\\n1. Sunday\\n2. Monday\\n3. Tuesday\\n4. Wednesday\\n5. Thursday\\n6. Friday\\n7. Saturday\")\n",
        "day=int(input(\"\\nEnter number for day according to above instruction= \"))\n",
        "if(day==1):\n",
        "  print(\"Sunday\")\n",
        "elif(day==2):\n",
        "  print(\"Monday\")\n",
        "elif(day==3):\n",
        "  print(\"Tuesday\")\n",
        "elif(day==4):\n",
        "  print(\"Wednesday\")\n",
        "elif(day==5):\n",
        "  print(\"Thursday\")\n",
        "elif(day==6):\n",
        "  print(\"Friday\")\n",
        "elif(day==7):\n",
        "  print(\"Saturday\")\n",
        "\n"
      ]
    },
    {
      "cell_type": "markdown",
      "metadata": {
        "id": "fSraes0hjP7-"
      },
      "source": [
        "### 07) WAP to implement simple calculator which performs (add,sub,mul,div) of two no. based on user input."
      ]
    },
    {
      "cell_type": "code",
      "execution_count": null,
      "metadata": {
        "id": "RwOviZFBjP7_",
        "colab": {
          "base_uri": "https://localhost:8080/"
        },
        "outputId": "5503a1f9-f9e0-4782-b70f-eafc201dd354"
      },
      "outputs": [
        {
          "output_type": "stream",
          "name": "stdout",
          "text": [
            "Enter a 1st number= 12\n",
            "Enter 2nd number= 12\n",
            "Enter operator you want to use:\n",
            "\n",
            "Addition for '+'\n",
            "Substraction for '-'\n",
            "Multiplication for '*'\n",
            "Division for '/'\n",
            "\n",
            "ENter an operator= *\n",
            "12 * 12 =  144\n"
          ]
        }
      ],
      "source": [
        "n1=int(input(\"Enter a 1st number= \"))\n",
        "n2=int(input(\"Enter 2nd number= \"))\n",
        "print(\"Enter operator you want to use:\\n\\nAddition for '+'\\nSubstraction for '-'\\nMultiplication for '*'\\nDivision for '/'\")\n",
        "op=input(\"\\nENter an operator= \")\n",
        "if(op=='+'):\n",
        "  print(f\"{n1} {op} {n2} = \",n1+n2)\n",
        "elif(op=='-'):\n",
        "  print(f\"{n1} {op} {n2} = \",n1-n2)\n",
        "elif(op=='*'):\n",
        "  print(f\"{n1} {op} {n2} = \",n1*n2)\n",
        "elif(op=='/'):\n",
        "  print(f\"{n1} {op} {n2} = \",n1/n2)\n",
        "else:\n",
        "  print(\"Invalid inputs\")"
      ]
    },
    {
      "cell_type": "markdown",
      "metadata": {
        "id": "N-zskdyhjP7_"
      },
      "source": [
        "### 08) WAP to calculate electricity bill based on following criteria. Which takes the unit from the user.\n",
        "a. First 1 to 50 units – Rs. 2.60/unit</br>\n",
        "b. Next 50 to 100 units – Rs. 3.25/unit</br>\n",
        "c. Next 100 to 200 units – Rs. 5.26/unit</br>\n",
        "d. above 200 units – Rs. 8.45/unit"
      ]
    },
    {
      "cell_type": "code",
      "execution_count": null,
      "metadata": {
        "id": "DT3zyByAjP8B",
        "colab": {
          "base_uri": "https://localhost:8080/"
        },
        "outputId": "ac1e28b9-4f47-4ed4-ffa5-0221cd1a2856"
      },
      "outputs": [
        {
          "output_type": "stream",
          "name": "stdout",
          "text": [
            "Enter your electricity units= 100\n",
            "your electricity bill for {unit} is 526.0 Rs.\n"
          ]
        }
      ],
      "source": [
        "units=int(input(\"Enter your electricity units= \"))\n",
        "bill=0\n",
        "if(units>=1 and units<50):\n",
        "  bill=round((units*2.60),2)\n",
        "  print(\"your electricity bill for {unit} is\",bill,\"Rs.\")\n",
        "elif(units>=50 and units<100):\n",
        "  bill=round((units*3.25),2)\n",
        "  print(\"your electricity bill for {unit} is\",bill,\"Rs.\")\n",
        "elif(units>=100 and units<200):\n",
        "  bill=round((units*5.26),2)\n",
        "  print(\"your electricity bill for {unit} is\",bill,\"Rs.\")\n",
        "elif(units>=200):\n",
        "  bill=round((units*8.45),2)\n",
        "  print(\"your electricity bill for {unit} is\",bill,\"Rs.\")\n",
        "else:\n",
        "  print(\"you enter Invalid Units\")"
      ]
    },
    {
      "cell_type": "markdown",
      "metadata": {
        "id": "SWLszVGDjP8B"
      },
      "source": [
        "### 01) WAP to read marks of five subjects. Calculate percentage and print class accordingly. \n",
        "Fail below 35 </br>\n",
        "Pass Class between 35 to 45 </br>\n",
        "Second Class</br>\n",
        "between 45 to 60</br>\n",
        "First Class between 60 to 70</br> \n",
        "Distinction if more than 70"
      ]
    },
    {
      "cell_type": "code",
      "execution_count": 4,
      "metadata": {
        "id": "hm1bnHXPjP8C",
        "colab": {
          "base_uri": "https://localhost:8080/",
          "height": 0
        },
        "outputId": "ef4bb664-c238-43c7-a1cb-d2f94f48c4a9"
      },
      "outputs": [
        {
          "output_type": "stream",
          "name": "stdout",
          "text": [
            "Enter Marks of subject 1: 90\n",
            "Enter Marks of subject 2: 90\n",
            "Enter Marks of subject 3: 90\n",
            "Enter Marks of subject 4: 90\n",
            "Enter Marks of subject 5: 90\n",
            "You achieved $90.0% and passed with Distinction class\n"
          ]
        }
      ],
      "source": [
        "sub1 = int(input(\"Enter Marks of subject 1: \"))\n",
        "sub2 = int(input(\"Enter Marks of subject 2: \"))\n",
        "sub3 = int(input(\"Enter Marks of subject 3: \"))\n",
        "sub4 = int(input(\"Enter Marks of subject 4: \"))\n",
        "sub5 = int(input(\"Enter Marks of subject 5: \"))\n",
        "percentage = (sub1+sub2+sub3+sub4+sub5)/5\n",
        "if percentage < 35:\n",
        "    print(f\"You achieved ${percentage}% and you are Fail\")\n",
        "if percentage > 45 and percentage < 35:\n",
        "    print(f\"You achieved ${percentage}% and passed with Pass Class\")\n",
        "if percentage > 60 and percentage < 45:\n",
        "    print(f\"You achieved ${percentage}% and passed with Second Class\")\n",
        "if percentage > 70 and percentage < 60:\n",
        "    print(f\"You achieved ${percentage}% and passed with First Class\")\n",
        "if percentage > 70:\n",
        "    print(f\"You achieved ${percentage}% and passed with Distinction class\")"
      ]
    },
    {
      "cell_type": "markdown",
      "metadata": {
        "id": "Oz_nQACvjP8C"
      },
      "source": [
        "### 02) WAP to find out the Maximum and Minimum number from given 4 numbers."
      ]
    },
    {
      "cell_type": "code",
      "execution_count": 5,
      "metadata": {
        "id": "n6QDC3INjP8D",
        "colab": {
          "base_uri": "https://localhost:8080/",
          "height": 0
        },
        "outputId": "4d25dc34-074f-4b87-9c16-4fd39b6501e0"
      },
      "outputs": [
        {
          "output_type": "stream",
          "name": "stdout",
          "text": [
            "Enter A Number : 10\n",
            "Enter A Number : 8\n",
            "Enter A Number : 15\n",
            "Enter A Number : 7\n",
            "15 is largest\n",
            "7 is smallest\n"
          ]
        }
      ],
      "source": [
        "n1 = int(input(\"Enter A Number : \"))\n",
        "n2 = int(input(\"Enter A Number : \"))\n",
        "n3 = int(input(\"Enter A Number : \"))\n",
        "n4 = int(input(\"Enter A Number : \"))\n",
        "\n",
        "print(n1 if n1 > n2 and n1 > n3 and n1 > n4 else n2 if n2 >\n",
        "      n3 and n3 > n4 else n3 if n3 > n4 else n4, \"is largest\")\n",
        "\n",
        "print(n1 if n1 < n2 and n1 < n3 and n1 < n4 else n2 if n2 <\n",
        "      n3 and n3 < n4 else n3 if n3 < n4 else n4, \"is smallest\")"
      ]
    },
    {
      "cell_type": "markdown",
      "metadata": {
        "id": "vgx4E4GqjP8D"
      },
      "source": [
        "### 03) WAP to input an integer number and check the last digit of number is even or odd."
      ]
    },
    {
      "cell_type": "code",
      "execution_count": 7,
      "metadata": {
        "id": "ZErRi9nHjP8E",
        "colab": {
          "base_uri": "https://localhost:8080/",
          "height": 0
        },
        "outputId": "90e09b76-99b7-444b-9e66-6fa6838670ec"
      },
      "outputs": [
        {
          "output_type": "stream",
          "name": "stdout",
          "text": [
            "Enter A Number : 12324\n",
            "4 is a last digit and it is Even\n"
          ]
        }
      ],
      "source": [
        "num = int(input(\"Enter A Number : \"))\n",
        "num1 = num % 10\n",
        "if num1 % 2 == 0:\n",
        "    print(f\"{num1} is a last digit and it is Even\")\n",
        "else:\n",
        "    print(f\"{num1} is last digit and it is Odd\")"
      ]
    },
    {
      "cell_type": "markdown",
      "metadata": {
        "id": "4_1qwXmNjP8E"
      },
      "source": [
        "### 04) WAP to determine the roots of the equation ax2+bx+c=0."
      ]
    },
    {
      "cell_type": "code",
      "execution_count": 9,
      "metadata": {
        "id": "xAjEXi0ijP8F",
        "colab": {
          "base_uri": "https://localhost:8080/",
          "height": 0
        },
        "outputId": "5d4d804d-e9c6-4a66-afd0-60c1a44324c1"
      },
      "outputs": [
        {
          "output_type": "stream",
          "name": "stdout",
          "text": [
            "Enter Value Of a : 2\n",
            "Enter Value Of b : 4\n",
            "Enter Value Of c : 2\n",
            "Real & Same Roots :  -1.0\n"
          ]
        }
      ],
      "source": [
        "import math\n",
        "a = float(input(\"Enter Value Of a : \"))\n",
        "b = float(input(\"Enter Value Of b : \"))\n",
        "c = float(input(\"Enter Value Of c : \"))\n",
        "d = (b*b-4*a*c)\n",
        "val = math.sqrt(abs(d))\n",
        "if d > 0:\n",
        "    print(\"Real Roots\")\n",
        "    print(-b+val)/(2*a)\n",
        "    print(-b-val)/(2*a)\n",
        "elif d == 0:\n",
        "    print(\"Real & Same Roots : \", (-b)/(2*a))\n",
        "elif d < 0:\n",
        "    print(\"Complex Roots\")\n",
        "    print(-b/(2*a), \"+i\", val)\n",
        "    print(-b/(2*a), \"-j\", val)"
      ]
    }
  ],
  "metadata": {
    "kernelspec": {
      "display_name": "Python 3 (ipykernel)",
      "language": "python",
      "name": "python3"
    },
    "language_info": {
      "codemirror_mode": {
        "name": "ipython",
        "version": 3
      },
      "file_extension": ".py",
      "mimetype": "text/x-python",
      "name": "python",
      "nbconvert_exporter": "python",
      "pygments_lexer": "ipython3",
      "version": "3.9.13"
    },
    "colab": {
      "provenance": []
    }
  },
  "nbformat": 4,
  "nbformat_minor": 0
}